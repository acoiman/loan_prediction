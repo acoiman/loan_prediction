{
 "cells": [
  {
   "cell_type": "markdown",
   "metadata": {},
   "source": [
    "# Binary Classification Machine Learning. Case Study Loan Prediction\n",
    "\n",
    "## 1 Problem Definition\n",
    "\n",
    "The aim of this exercise is to use **Machine Learning** techniques to predict loan eligibility based on customer details. These details are numerical and categorical data that include information about gender, marital status, education, dependents, income, loan amount, credit history, and others. The label of each record is the letter `Y` if the loan is approved and `N` is the loan is rejected.\n",
    "\n",
    "The training dataset contains the following information:\n",
    "\n",
    "<table><tbody><tr><td width=\"155\"><p><strong>Variable</strong></p></td><td width=\"465\"><p>Description</p></td></tr><tr><td width=\"155\"><p><strong>Loan_ID</strong></p></td><td width=\"465\"><p>Unique Loan ID</p></td></tr><tr><td width=\"155\"><p><strong>Gender</strong></p></td><td width=\"465\"><p>Male/ Female</p></td></tr><tr><td width=\"155\"><p><strong>Married</strong></p></td><td width=\"465\"><p>Applicant married (Y/N)</p></td></tr><tr><td width=\"155\"><p><strong>Dependents</strong></p></td><td width=\"465\"><p>Number of dependents</p></td></tr><tr><td width=\"155\"><p><strong>Education</strong></p></td><td width=\"465\"><p>Applicant Education (Graduate/ Under Graduate)</p></td></tr><tr><td width=\"155\"><p><strong>Self_Employed</strong></p></td><td width=\"465\"><p>Self employed (Y/N)</p></td></tr><tr><td width=\"155\"><p><strong>ApplicantIncome</strong></p></td><td width=\"465\"><p>Applicant income</p></td></tr><tr><td width=\"155\"><p><strong>CoapplicantIncome</strong></p></td><td width=\"465\"><p>Coapplicant income</p></td></tr><tr><td width=\"155\"><p><strong>LoanAmount</strong></p></td><td width=\"465\"><p>Loan amount in thousands</p></td></tr><tr><td width=\"155\"><p><strong>Loan_Amount_Term</strong></p></td><td width=\"465\"><p>Term of loan in months</p></td></tr><tr><td width=\"155\"><p><strong>Credit_History</strong></p></td><td width=\"465\"><p>credit history meets guidelines</p></td></tr><tr><td width=\"155\"><p><strong>Property_Area</strong></p></td><td width=\"465\"><p>Urban/ Semi Urban/ Rural</p></td></tr><tr><td width=\"155\"><p><strong>Loan_Status</strong></p></td><td width=\"465\"><p>Loan approved (Y/N)</p></td></tr></tbody></table><p> \n",
    "    \n",
    "The test dataset contains the same columns as the training dataset except the last one (Loan approved).\n",
    "\n",
    "To solve this problem we will implement a Machine Learning solution based on data transformation and algorithm tuning to improve model performance. This solution is inspired in the recipes contained in the book [**Machine Learning Mastery With Python**](https://machinelearningmastery.com/machine-learning-with-python/) by Jason Brownlee."
   ]
  },
  {
   "cell_type": "markdown",
   "metadata": {},
   "source": [
    "## 2 Load the Dataset\n",
    "\n",
    "First, we will load the required libraries to accomplish our goals."
   ]
  },
  {
   "cell_type": "code",
   "execution_count": 1,
   "metadata": {},
   "outputs": [],
   "source": [
    "# load libraries\n",
    "import numpy as np\n",
    "import matplotlib.pyplot as plt\n",
    "import pandas as pd\n",
    "from pandas import set_option\n",
    "from pandas.plotting import scatter_matrix\n",
    "\n",
    "from sklearn.preprocessing import StandardScaler\n",
    "\n",
    "from sklearn.model_selection import train_test_split\n",
    "from sklearn.model_selection import KFold\n",
    "from sklearn.model_selection import cross_val_score\n",
    "from sklearn.model_selection import GridSearchCV\n",
    "\n",
    "from sklearn.metrics import classification_report\n",
    "from sklearn.metrics import confusion_matrix\n",
    "from sklearn.metrics import accuracy_score\n",
    "\n",
    "from sklearn.pipeline import Pipeline\n",
    "\n",
    "from sklearn.linear_model import LogisticRegression\n",
    "from sklearn.tree import DecisionTreeClassifier\n",
    "from sklearn.neighbors import KNeighborsClassifier\n",
    "from sklearn.discriminant_analysis import LinearDiscriminantAnalysis\n",
    "from sklearn.naive_bayes import GaussianNB\n",
    "from sklearn.svm import SVC\n",
    "from sklearn.ensemble import AdaBoostClassifier\n",
    "from sklearn.ensemble import GradientBoostingClassifier\n",
    "from sklearn.ensemble import RandomForestClassifier\n",
    "from sklearn.ensemble import ExtraTreesClassifier\n",
    "\n",
    "from sklearn.impute import SimpleImputer\n",
    "\n",
    "import warnings\n",
    "warnings.filterwarnings('ignore')"
   ]
  },
  {
   "cell_type": "markdown",
   "metadata": {},
   "source": [
    "### 2.1 Loading training dataset"
   ]
  },
  {
   "cell_type": "code",
   "execution_count": 275,
   "metadata": {},
   "outputs": [
    {
     "data": {
      "text/html": [
       "<div>\n",
       "<style scoped>\n",
       "    .dataframe tbody tr th:only-of-type {\n",
       "        vertical-align: middle;\n",
       "    }\n",
       "\n",
       "    .dataframe tbody tr th {\n",
       "        vertical-align: top;\n",
       "    }\n",
       "\n",
       "    .dataframe thead th {\n",
       "        text-align: right;\n",
       "    }\n",
       "</style>\n",
       "<table border=\"1\" class=\"dataframe\">\n",
       "  <thead>\n",
       "    <tr style=\"text-align: right;\">\n",
       "      <th></th>\n",
       "      <th>Loan_ID</th>\n",
       "      <th>Gender</th>\n",
       "      <th>Married</th>\n",
       "      <th>Dependents</th>\n",
       "      <th>Education</th>\n",
       "      <th>Self_Employed</th>\n",
       "      <th>ApplicantIncome</th>\n",
       "      <th>CoapplicantIncome</th>\n",
       "      <th>LoanAmount</th>\n",
       "      <th>Loan_Amount_Term</th>\n",
       "      <th>Credit_History</th>\n",
       "      <th>Property_Area</th>\n",
       "      <th>Loan_Status</th>\n",
       "    </tr>\n",
       "  </thead>\n",
       "  <tbody>\n",
       "    <tr>\n",
       "      <th>0</th>\n",
       "      <td>LP001002</td>\n",
       "      <td>Male</td>\n",
       "      <td>No</td>\n",
       "      <td>0</td>\n",
       "      <td>Graduate</td>\n",
       "      <td>No</td>\n",
       "      <td>5849</td>\n",
       "      <td>0.0</td>\n",
       "      <td>NaN</td>\n",
       "      <td>360.0</td>\n",
       "      <td>1.0</td>\n",
       "      <td>Urban</td>\n",
       "      <td>Y</td>\n",
       "    </tr>\n",
       "    <tr>\n",
       "      <th>1</th>\n",
       "      <td>LP001003</td>\n",
       "      <td>Male</td>\n",
       "      <td>Yes</td>\n",
       "      <td>1</td>\n",
       "      <td>Graduate</td>\n",
       "      <td>No</td>\n",
       "      <td>4583</td>\n",
       "      <td>1508.0</td>\n",
       "      <td>128.0</td>\n",
       "      <td>360.0</td>\n",
       "      <td>1.0</td>\n",
       "      <td>Rural</td>\n",
       "      <td>N</td>\n",
       "    </tr>\n",
       "    <tr>\n",
       "      <th>2</th>\n",
       "      <td>LP001005</td>\n",
       "      <td>Male</td>\n",
       "      <td>Yes</td>\n",
       "      <td>0</td>\n",
       "      <td>Graduate</td>\n",
       "      <td>Yes</td>\n",
       "      <td>3000</td>\n",
       "      <td>0.0</td>\n",
       "      <td>66.0</td>\n",
       "      <td>360.0</td>\n",
       "      <td>1.0</td>\n",
       "      <td>Urban</td>\n",
       "      <td>Y</td>\n",
       "    </tr>\n",
       "    <tr>\n",
       "      <th>3</th>\n",
       "      <td>LP001006</td>\n",
       "      <td>Male</td>\n",
       "      <td>Yes</td>\n",
       "      <td>0</td>\n",
       "      <td>Not Graduate</td>\n",
       "      <td>No</td>\n",
       "      <td>2583</td>\n",
       "      <td>2358.0</td>\n",
       "      <td>120.0</td>\n",
       "      <td>360.0</td>\n",
       "      <td>1.0</td>\n",
       "      <td>Urban</td>\n",
       "      <td>Y</td>\n",
       "    </tr>\n",
       "    <tr>\n",
       "      <th>4</th>\n",
       "      <td>LP001008</td>\n",
       "      <td>Male</td>\n",
       "      <td>No</td>\n",
       "      <td>0</td>\n",
       "      <td>Graduate</td>\n",
       "      <td>No</td>\n",
       "      <td>6000</td>\n",
       "      <td>0.0</td>\n",
       "      <td>141.0</td>\n",
       "      <td>360.0</td>\n",
       "      <td>1.0</td>\n",
       "      <td>Urban</td>\n",
       "      <td>Y</td>\n",
       "    </tr>\n",
       "  </tbody>\n",
       "</table>\n",
       "</div>"
      ],
      "text/plain": [
       "    Loan_ID Gender Married Dependents     Education Self_Employed  ApplicantIncome  \\\n",
       "0  LP001002   Male      No          0      Graduate            No             5849   \n",
       "1  LP001003   Male     Yes          1      Graduate            No             4583   \n",
       "2  LP001005   Male     Yes          0      Graduate           Yes             3000   \n",
       "3  LP001006   Male     Yes          0  Not Graduate            No             2583   \n",
       "4  LP001008   Male      No          0      Graduate            No             6000   \n",
       "\n",
       "   CoapplicantIncome  LoanAmount  Loan_Amount_Term  Credit_History Property_Area Loan_Status  \n",
       "0                0.0         NaN             360.0             1.0         Urban           Y  \n",
       "1             1508.0       128.0             360.0             1.0         Rural           N  \n",
       "2                0.0        66.0             360.0             1.0         Urban           Y  \n",
       "3             2358.0       120.0             360.0             1.0         Urban           Y  \n",
       "4                0.0       141.0             360.0             1.0         Urban           Y  "
      ]
     },
     "execution_count": 275,
     "metadata": {},
     "output_type": "execute_result"
    }
   ],
   "source": [
    "# load dataset\n",
    "df = pd.read_csv('train.csv')\n",
    "df.head()"
   ]
  },
  {
   "cell_type": "markdown",
   "metadata": {},
   "source": [
    "According to the output, some columns columns have categorical data and other columns have numerical data."
   ]
  },
  {
   "cell_type": "markdown",
   "metadata": {},
   "source": [
    "## 3. Imputation of missing values for categorical and numerical values\n",
    "\n",
    "As we do not want to reduce the amount of data for our Machine Learning solution, we need to fill null values with the most frequent one for each category in our dataframe. But first we will sum missing values for each column."
   ]
  },
  {
   "cell_type": "code",
   "execution_count": 276,
   "metadata": {},
   "outputs": [
    {
     "data": {
      "text/plain": [
       "Loan_ID               0\n",
       "Gender               13\n",
       "Married               3\n",
       "Dependents           15\n",
       "Education             0\n",
       "Self_Employed        32\n",
       "ApplicantIncome       0\n",
       "CoapplicantIncome     0\n",
       "LoanAmount           22\n",
       "Loan_Amount_Term     14\n",
       "Credit_History       50\n",
       "Property_Area         0\n",
       "Loan_Status           0\n",
       "dtype: int64"
      ]
     },
     "execution_count": 276,
     "metadata": {},
     "output_type": "execute_result"
    }
   ],
   "source": [
    "# sum missing values \n",
    "df.isnull().sum()"
   ]
  },
  {
   "cell_type": "markdown",
   "metadata": {},
   "source": [
    "We have seven columns with missing values. Next, we will impute both categorical and numerical values and change the date type of some columns."
   ]
  },
  {
   "cell_type": "code",
   "execution_count": 277,
   "metadata": {},
   "outputs": [],
   "source": [
    "imp = SimpleImputer(missing_values=np.nan, strategy='most_frequent')\n",
    "df = pd.DataFrame(imp.fit_transform(df),columns=df.columns,index=df.index)"
   ]
  },
  {
   "cell_type": "code",
   "execution_count": 278,
   "metadata": {},
   "outputs": [],
   "source": [
    "df = df.astype({'ApplicantIncome': np.int64, 'CoapplicantIncome':float,\n",
    "                'LoanAmount':float,'Loan_Amount_Term':float, 'Credit_History':float})"
   ]
  },
  {
   "cell_type": "markdown",
   "metadata": {},
   "source": [
    "## 4. Transforming Categorical Data\n",
    "\n",
    "In this section we will transform categorical data because Machine Learning algorithm cannot deal with this type of data. \n",
    "\n",
    "First, we will get unique values form categorical columns."
   ]
  },
  {
   "cell_type": "code",
   "execution_count": 279,
   "metadata": {},
   "outputs": [
    {
     "data": {
      "text/plain": [
       "array(['Male', 'Female'], dtype=object)"
      ]
     },
     "execution_count": 279,
     "metadata": {},
     "output_type": "execute_result"
    },
    {
     "data": {
      "text/plain": [
       "array(['No', 'Yes'], dtype=object)"
      ]
     },
     "execution_count": 279,
     "metadata": {},
     "output_type": "execute_result"
    },
    {
     "data": {
      "text/plain": [
       "array(['0', '1', '2', '3+'], dtype=object)"
      ]
     },
     "execution_count": 279,
     "metadata": {},
     "output_type": "execute_result"
    },
    {
     "data": {
      "text/plain": [
       "array(['Graduate', 'Not Graduate'], dtype=object)"
      ]
     },
     "execution_count": 279,
     "metadata": {},
     "output_type": "execute_result"
    },
    {
     "data": {
      "text/plain": [
       "array(['No', 'Yes'], dtype=object)"
      ]
     },
     "execution_count": 279,
     "metadata": {},
     "output_type": "execute_result"
    },
    {
     "data": {
      "text/plain": [
       "array(['Urban', 'Rural', 'Semiurban'], dtype=object)"
      ]
     },
     "execution_count": 279,
     "metadata": {},
     "output_type": "execute_result"
    },
    {
     "data": {
      "text/plain": [
       "array(['Y', 'N'], dtype=object)"
      ]
     },
     "execution_count": 279,
     "metadata": {},
     "output_type": "execute_result"
    }
   ],
   "source": [
    "df.Gender.unique()\n",
    "df.Married.unique()\n",
    "df.Dependents.unique()\n",
    "df.Education.unique()\n",
    "df.Self_Employed.unique()\n",
    "df.Property_Area.unique()\n",
    "df.Loan_Status.unique()"
   ]
  },
  {
   "cell_type": "markdown",
   "metadata": {},
   "source": [
    "Next, we will create and apply a function to generate the encoding scheme for categorical data and write back labels to the DataFrame. Based on [Dipanjan (DJ) Sarkar post]((https://towardsdatascience.com/understanding-feature-engineering-part-2-categorical-data-f54324193e63))."
   ]
  },
  {
   "cell_type": "code",
   "execution_count": 280,
   "metadata": {},
   "outputs": [],
   "source": [
    "from sklearn.preprocessing import LabelEncoder\n",
    "def encoding_schema(df, cat, label):\n",
    "    \n",
    "    '''Function to generate the encoding scheme for categorical data and \n",
    "        write back labels to the DataFrame\n",
    "    '''\n",
    "    gle = LabelEncoder()\n",
    "    cat_labels = gle.fit_transform(df[cat])\n",
    "    cat_mappings = {index: label for index, label in enumerate(gle.classes_)}\n",
    "    \n",
    "    df[label] = cat_labels.astype('int64')\n",
    "    \n",
    "    return ('Labels for {} are {}'.format(cat, cat_mappings))"
   ]
  },
  {
   "cell_type": "code",
   "execution_count": 281,
   "metadata": {},
   "outputs": [
    {
     "data": {
      "text/plain": [
       "\"Labels for Gender are {0: 'Female', 1: 'Male'}\""
      ]
     },
     "execution_count": 281,
     "metadata": {},
     "output_type": "execute_result"
    },
    {
     "data": {
      "text/plain": [
       "\"Labels for Married are {0: 'No', 1: 'Yes'}\""
      ]
     },
     "execution_count": 281,
     "metadata": {},
     "output_type": "execute_result"
    },
    {
     "data": {
      "text/plain": [
       "\"Labels for Dependents are {0: '0', 1: '1', 2: '2', 3: '3+'}\""
      ]
     },
     "execution_count": 281,
     "metadata": {},
     "output_type": "execute_result"
    },
    {
     "data": {
      "text/plain": [
       "\"Labels for Education are {0: 'Graduate', 1: 'Not Graduate'}\""
      ]
     },
     "execution_count": 281,
     "metadata": {},
     "output_type": "execute_result"
    },
    {
     "data": {
      "text/plain": [
       "\"Labels for Self_Employed are {0: 'No', 1: 'Yes'}\""
      ]
     },
     "execution_count": 281,
     "metadata": {},
     "output_type": "execute_result"
    },
    {
     "data": {
      "text/plain": [
       "\"Labels for Property_Area are {0: 'Rural', 1: 'Semiurban', 2: 'Urban'}\""
      ]
     },
     "execution_count": 281,
     "metadata": {},
     "output_type": "execute_result"
    },
    {
     "data": {
      "text/plain": [
       "\"Labels for Loan_Status are {0: 'N', 1: 'Y'}\""
      ]
     },
     "execution_count": 281,
     "metadata": {},
     "output_type": "execute_result"
    }
   ],
   "source": [
    "# apply encoding_scheme to Gender \n",
    "encoding_schema(df, 'Gender', 'GenderLabel')\n",
    "\n",
    "# apply encoding_scheme to Married \n",
    "encoding_schema(df, 'Married', 'MarriedLabel')\n",
    "\n",
    "# apply encoding_scheme to Dependents\n",
    "encoding_schema(df, 'Dependents', 'DependentsLabel')\n",
    "\n",
    "# apply encoding_scheme to Education\n",
    "encoding_schema(df, 'Education', 'EducationLabel')\n",
    "\n",
    "# apply encoding_scheme to Self_Employed\n",
    "encoding_schema(df, 'Self_Employed', 'Self_EmployedLabel')\n",
    "\n",
    "# apply encoding_scheme to Property_Area\n",
    "encoding_schema(df, 'Property_Area', 'Property_AreaLabel')\n",
    "\n",
    "# apply encoding_scheme to Loan_Status\n",
    "encoding_schema(df, 'Loan_Status', 'Loan_StatusLabel')"
   ]
  },
  {
   "cell_type": "markdown",
   "metadata": {},
   "source": [
    "Finally, we will get rid of unuseful columns and rename back useful columns  "
   ]
  },
  {
   "cell_type": "code",
   "execution_count": 282,
   "metadata": {},
   "outputs": [],
   "source": [
    "columns_to_keep  = ['Loan_ID', 'GenderLabel', 'MarriedLabel', 'DependentsLabel', 'EducationLabel',\n",
    "       'Self_EmployedLabel', 'ApplicantIncome', 'CoapplicantIncome', 'LoanAmount',\n",
    "       'Loan_Amount_Term', 'Credit_History', 'Property_AreaLabel', 'Loan_StatusLabel']\n",
    "\n",
    "df = df[columns_to_keep]"
   ]
  },
  {
   "cell_type": "code",
   "execution_count": 283,
   "metadata": {},
   "outputs": [],
   "source": [
    "old_colnames  = ['GenderLabel', 'MarriedLabel', 'DependentsLabel', 'EducationLabel',\n",
    "       'Self_EmployedLabel', 'Property_AreaLabel', 'Loan_StatusLabel']\n",
    "\n",
    "new_colnames  = ['Gender', 'Married', 'Dependents', 'Education',\n",
    "       'Self_Employed', 'Property_Area', 'Loan_Status']\n",
    "\n",
    "col_rename_dict = {i:j for i,j in zip(old_colnames,new_colnames)}\n",
    "df = df.rename(columns=col_rename_dict)"
   ]
  },
  {
   "cell_type": "markdown",
   "metadata": {},
   "source": [
    "## 5 Analyzing Data\n",
    "\n",
    "After transforming our dataset, we can examine closely our data. \n",
    "\n",
    "### 5.1 Descriptive Statistics\n",
    "\n",
    "Let's examine the number of rows and columns of our dataset"
   ]
  },
  {
   "cell_type": "code",
   "execution_count": 284,
   "metadata": {},
   "outputs": [
    {
     "data": {
      "text/plain": [
       "(614, 13)"
      ]
     },
     "execution_count": 284,
     "metadata": {},
     "output_type": "execute_result"
    }
   ],
   "source": [
    "# shape\n",
    "df.shape"
   ]
  },
  {
   "cell_type": "markdown",
   "metadata": {},
   "source": [
    "We have 614 samples to produce our solution and we can observe that our dataset contains 13 attributes including the target attribute `Loan_Status`.\n",
    "\n",
    "Now, let's look at the data tye of each column\n",
    "\n"
   ]
  },
  {
   "cell_type": "code",
   "execution_count": 285,
   "metadata": {},
   "outputs": [
    {
     "data": {
      "text/plain": [
       "Loan_ID               object\n",
       "Gender                 int64\n",
       "Married                int64\n",
       "Dependents             int64\n",
       "Education              int64\n",
       "Self_Employed          int64\n",
       "ApplicantIncome        int64\n",
       "CoapplicantIncome    float64\n",
       "LoanAmount           float64\n",
       "Loan_Amount_Term     float64\n",
       "Credit_History       float64\n",
       "Property_Area          int64\n",
       "Loan_Status            int64\n",
       "dtype: object"
      ]
     },
     "execution_count": 285,
     "metadata": {},
     "output_type": "execute_result"
    }
   ],
   "source": [
    "df.dtypes"
   ]
  },
  {
   "cell_type": "markdown",
   "metadata": {},
   "source": [
    "Nearly all column are numeric, some of them are real values (float) and others are integers (int).\n",
    "\n",
    "Next, let's take a pick at the first 5 rows"
   ]
  },
  {
   "cell_type": "code",
   "execution_count": 286,
   "metadata": {},
   "outputs": [
    {
     "data": {
      "text/html": [
       "<div>\n",
       "<style scoped>\n",
       "    .dataframe tbody tr th:only-of-type {\n",
       "        vertical-align: middle;\n",
       "    }\n",
       "\n",
       "    .dataframe tbody tr th {\n",
       "        vertical-align: top;\n",
       "    }\n",
       "\n",
       "    .dataframe thead th {\n",
       "        text-align: right;\n",
       "    }\n",
       "</style>\n",
       "<table border=\"1\" class=\"dataframe\">\n",
       "  <thead>\n",
       "    <tr style=\"text-align: right;\">\n",
       "      <th></th>\n",
       "      <th>Loan_ID</th>\n",
       "      <th>Gender</th>\n",
       "      <th>Married</th>\n",
       "      <th>Dependents</th>\n",
       "      <th>Education</th>\n",
       "      <th>Self_Employed</th>\n",
       "      <th>ApplicantIncome</th>\n",
       "      <th>CoapplicantIncome</th>\n",
       "      <th>LoanAmount</th>\n",
       "      <th>Loan_Amount_Term</th>\n",
       "      <th>Credit_History</th>\n",
       "      <th>Property_Area</th>\n",
       "      <th>Loan_Status</th>\n",
       "    </tr>\n",
       "  </thead>\n",
       "  <tbody>\n",
       "    <tr>\n",
       "      <th>0</th>\n",
       "      <td>LP001002</td>\n",
       "      <td>1</td>\n",
       "      <td>0</td>\n",
       "      <td>0</td>\n",
       "      <td>0</td>\n",
       "      <td>0</td>\n",
       "      <td>5849</td>\n",
       "      <td>0.0</td>\n",
       "      <td>120.0</td>\n",
       "      <td>360.0</td>\n",
       "      <td>1.0</td>\n",
       "      <td>2</td>\n",
       "      <td>1</td>\n",
       "    </tr>\n",
       "    <tr>\n",
       "      <th>1</th>\n",
       "      <td>LP001003</td>\n",
       "      <td>1</td>\n",
       "      <td>1</td>\n",
       "      <td>1</td>\n",
       "      <td>0</td>\n",
       "      <td>0</td>\n",
       "      <td>4583</td>\n",
       "      <td>1508.0</td>\n",
       "      <td>128.0</td>\n",
       "      <td>360.0</td>\n",
       "      <td>1.0</td>\n",
       "      <td>0</td>\n",
       "      <td>0</td>\n",
       "    </tr>\n",
       "    <tr>\n",
       "      <th>2</th>\n",
       "      <td>LP001005</td>\n",
       "      <td>1</td>\n",
       "      <td>1</td>\n",
       "      <td>0</td>\n",
       "      <td>0</td>\n",
       "      <td>1</td>\n",
       "      <td>3000</td>\n",
       "      <td>0.0</td>\n",
       "      <td>66.0</td>\n",
       "      <td>360.0</td>\n",
       "      <td>1.0</td>\n",
       "      <td>2</td>\n",
       "      <td>1</td>\n",
       "    </tr>\n",
       "    <tr>\n",
       "      <th>3</th>\n",
       "      <td>LP001006</td>\n",
       "      <td>1</td>\n",
       "      <td>1</td>\n",
       "      <td>0</td>\n",
       "      <td>1</td>\n",
       "      <td>0</td>\n",
       "      <td>2583</td>\n",
       "      <td>2358.0</td>\n",
       "      <td>120.0</td>\n",
       "      <td>360.0</td>\n",
       "      <td>1.0</td>\n",
       "      <td>2</td>\n",
       "      <td>1</td>\n",
       "    </tr>\n",
       "    <tr>\n",
       "      <th>4</th>\n",
       "      <td>LP001008</td>\n",
       "      <td>1</td>\n",
       "      <td>0</td>\n",
       "      <td>0</td>\n",
       "      <td>0</td>\n",
       "      <td>0</td>\n",
       "      <td>6000</td>\n",
       "      <td>0.0</td>\n",
       "      <td>141.0</td>\n",
       "      <td>360.0</td>\n",
       "      <td>1.0</td>\n",
       "      <td>2</td>\n",
       "      <td>1</td>\n",
       "    </tr>\n",
       "  </tbody>\n",
       "</table>\n",
       "</div>"
      ],
      "text/plain": [
       "    Loan_ID  Gender  Married  Dependents  Education  Self_Employed  ApplicantIncome  \\\n",
       "0  LP001002       1        0           0          0              0             5849   \n",
       "1  LP001003       1        1           1          0              0             4583   \n",
       "2  LP001005       1        1           0          0              1             3000   \n",
       "3  LP001006       1        1           0          1              0             2583   \n",
       "4  LP001008       1        0           0          0              0             6000   \n",
       "\n",
       "   CoapplicantIncome  LoanAmount  Loan_Amount_Term  Credit_History  Property_Area  Loan_Status  \n",
       "0                0.0       120.0             360.0             1.0              2            1  \n",
       "1             1508.0       128.0             360.0             1.0              0            0  \n",
       "2                0.0        66.0             360.0             1.0              2            1  \n",
       "3             2358.0       120.0             360.0             1.0              2            1  \n",
       "4                0.0       141.0             360.0             1.0              2            1  "
      ]
     },
     "execution_count": 286,
     "metadata": {},
     "output_type": "execute_result"
    }
   ],
   "source": [
    "set_option('display.width', 100)\n",
    "df.head()"
   ]
  },
  {
   "cell_type": "markdown",
   "metadata": {},
   "source": [
    "Through the output we can corroborate the columns are numeric and some of them have different scales, so it is possible we need to transform them latter on."
   ]
  },
  {
   "cell_type": "code",
   "execution_count": 287,
   "metadata": {},
   "outputs": [
    {
     "data": {
      "text/html": [
       "<div>\n",
       "<style scoped>\n",
       "    .dataframe tbody tr th:only-of-type {\n",
       "        vertical-align: middle;\n",
       "    }\n",
       "\n",
       "    .dataframe tbody tr th {\n",
       "        vertical-align: top;\n",
       "    }\n",
       "\n",
       "    .dataframe thead th {\n",
       "        text-align: right;\n",
       "    }\n",
       "</style>\n",
       "<table border=\"1\" class=\"dataframe\">\n",
       "  <thead>\n",
       "    <tr style=\"text-align: right;\">\n",
       "      <th></th>\n",
       "      <th>Gender</th>\n",
       "      <th>Married</th>\n",
       "      <th>Dependents</th>\n",
       "      <th>Education</th>\n",
       "      <th>Self_Employed</th>\n",
       "      <th>ApplicantIncome</th>\n",
       "      <th>CoapplicantIncome</th>\n",
       "      <th>LoanAmount</th>\n",
       "      <th>Loan_Amount_Term</th>\n",
       "      <th>Credit_History</th>\n",
       "      <th>Property_Area</th>\n",
       "      <th>Loan_Status</th>\n",
       "    </tr>\n",
       "  </thead>\n",
       "  <tbody>\n",
       "    <tr>\n",
       "      <th>count</th>\n",
       "      <td>614.000</td>\n",
       "      <td>614.000</td>\n",
       "      <td>614.000</td>\n",
       "      <td>614.000</td>\n",
       "      <td>614.000</td>\n",
       "      <td>614.000</td>\n",
       "      <td>614.000</td>\n",
       "      <td>614.000</td>\n",
       "      <td>614.000</td>\n",
       "      <td>614.000</td>\n",
       "      <td>614.000</td>\n",
       "      <td>614.000</td>\n",
       "    </tr>\n",
       "    <tr>\n",
       "      <th>mean</th>\n",
       "      <td>0.818</td>\n",
       "      <td>0.653</td>\n",
       "      <td>0.744</td>\n",
       "      <td>0.218</td>\n",
       "      <td>0.134</td>\n",
       "      <td>5403.459</td>\n",
       "      <td>1621.246</td>\n",
       "      <td>145.466</td>\n",
       "      <td>342.410</td>\n",
       "      <td>0.855</td>\n",
       "      <td>1.037</td>\n",
       "      <td>0.687</td>\n",
       "    </tr>\n",
       "    <tr>\n",
       "      <th>std</th>\n",
       "      <td>0.386</td>\n",
       "      <td>0.476</td>\n",
       "      <td>1.010</td>\n",
       "      <td>0.413</td>\n",
       "      <td>0.340</td>\n",
       "      <td>6109.042</td>\n",
       "      <td>2926.248</td>\n",
       "      <td>84.181</td>\n",
       "      <td>64.429</td>\n",
       "      <td>0.352</td>\n",
       "      <td>0.787</td>\n",
       "      <td>0.464</td>\n",
       "    </tr>\n",
       "    <tr>\n",
       "      <th>min</th>\n",
       "      <td>0.000</td>\n",
       "      <td>0.000</td>\n",
       "      <td>0.000</td>\n",
       "      <td>0.000</td>\n",
       "      <td>0.000</td>\n",
       "      <td>150.000</td>\n",
       "      <td>0.000</td>\n",
       "      <td>9.000</td>\n",
       "      <td>12.000</td>\n",
       "      <td>0.000</td>\n",
       "      <td>0.000</td>\n",
       "      <td>0.000</td>\n",
       "    </tr>\n",
       "    <tr>\n",
       "      <th>25%</th>\n",
       "      <td>1.000</td>\n",
       "      <td>0.000</td>\n",
       "      <td>0.000</td>\n",
       "      <td>0.000</td>\n",
       "      <td>0.000</td>\n",
       "      <td>2877.500</td>\n",
       "      <td>0.000</td>\n",
       "      <td>100.250</td>\n",
       "      <td>360.000</td>\n",
       "      <td>1.000</td>\n",
       "      <td>0.000</td>\n",
       "      <td>0.000</td>\n",
       "    </tr>\n",
       "    <tr>\n",
       "      <th>50%</th>\n",
       "      <td>1.000</td>\n",
       "      <td>1.000</td>\n",
       "      <td>0.000</td>\n",
       "      <td>0.000</td>\n",
       "      <td>0.000</td>\n",
       "      <td>3812.500</td>\n",
       "      <td>1188.500</td>\n",
       "      <td>125.000</td>\n",
       "      <td>360.000</td>\n",
       "      <td>1.000</td>\n",
       "      <td>1.000</td>\n",
       "      <td>1.000</td>\n",
       "    </tr>\n",
       "    <tr>\n",
       "      <th>75%</th>\n",
       "      <td>1.000</td>\n",
       "      <td>1.000</td>\n",
       "      <td>1.000</td>\n",
       "      <td>0.000</td>\n",
       "      <td>0.000</td>\n",
       "      <td>5795.000</td>\n",
       "      <td>2297.250</td>\n",
       "      <td>164.750</td>\n",
       "      <td>360.000</td>\n",
       "      <td>1.000</td>\n",
       "      <td>2.000</td>\n",
       "      <td>1.000</td>\n",
       "    </tr>\n",
       "    <tr>\n",
       "      <th>max</th>\n",
       "      <td>1.000</td>\n",
       "      <td>1.000</td>\n",
       "      <td>3.000</td>\n",
       "      <td>1.000</td>\n",
       "      <td>1.000</td>\n",
       "      <td>81000.000</td>\n",
       "      <td>41667.000</td>\n",
       "      <td>700.000</td>\n",
       "      <td>480.000</td>\n",
       "      <td>1.000</td>\n",
       "      <td>2.000</td>\n",
       "      <td>1.000</td>\n",
       "    </tr>\n",
       "  </tbody>\n",
       "</table>\n",
       "</div>"
      ],
      "text/plain": [
       "        Gender  Married  Dependents  Education  Self_Employed  ApplicantIncome  CoapplicantIncome  \\\n",
       "count  614.000  614.000     614.000    614.000        614.000          614.000            614.000   \n",
       "mean     0.818    0.653       0.744      0.218          0.134         5403.459           1621.246   \n",
       "std      0.386    0.476       1.010      0.413          0.340         6109.042           2926.248   \n",
       "min      0.000    0.000       0.000      0.000          0.000          150.000              0.000   \n",
       "25%      1.000    0.000       0.000      0.000          0.000         2877.500              0.000   \n",
       "50%      1.000    1.000       0.000      0.000          0.000         3812.500           1188.500   \n",
       "75%      1.000    1.000       1.000      0.000          0.000         5795.000           2297.250   \n",
       "max      1.000    1.000       3.000      1.000          1.000        81000.000          41667.000   \n",
       "\n",
       "       LoanAmount  Loan_Amount_Term  Credit_History  Property_Area  Loan_Status  \n",
       "count     614.000           614.000         614.000        614.000      614.000  \n",
       "mean      145.466           342.410           0.855          1.037        0.687  \n",
       "std        84.181            64.429           0.352          0.787        0.464  \n",
       "min         9.000            12.000           0.000          0.000        0.000  \n",
       "25%       100.250           360.000           1.000          0.000        0.000  \n",
       "50%       125.000           360.000           1.000          1.000        1.000  \n",
       "75%       164.750           360.000           1.000          2.000        1.000  \n",
       "max       700.000           480.000           1.000          2.000        1.000  "
      ]
     },
     "execution_count": 287,
     "metadata": {},
     "output_type": "execute_result"
    }
   ],
   "source": [
    "# summarize the distribution of each attribute\n",
    "set_option('precision', 3)\n",
    "df.describe()"
   ]
  },
  {
   "cell_type": "code",
   "execution_count": 156,
   "metadata": {},
   "outputs": [
    {
     "data": {
      "text/plain": [
       "Loan_Status\n",
       "0    192\n",
       "1    422\n",
       "dtype: int64"
      ]
     },
     "execution_count": 156,
     "metadata": {},
     "output_type": "execute_result"
    }
   ],
   "source": [
    "# class distribution for Laon_status\n",
    "df.groupby(['Loan_Status']).size()"
   ]
  },
  {
   "cell_type": "markdown",
   "metadata": {},
   "source": [
    "### Unimodal Data Visualizations"
   ]
  },
  {
   "cell_type": "code",
   "execution_count": 157,
   "metadata": {},
   "outputs": [
    {
     "data": {
      "text/plain": [
       "array([[<matplotlib.axes._subplots.AxesSubplot object at 0x00000012C7AB3588>,\n",
       "        <matplotlib.axes._subplots.AxesSubplot object at 0x00000012C5E12208>,\n",
       "        <matplotlib.axes._subplots.AxesSubplot object at 0x00000012C85F2400>],\n",
       "       [<matplotlib.axes._subplots.AxesSubplot object at 0x00000012C88DBD30>,\n",
       "        <matplotlib.axes._subplots.AxesSubplot object at 0x00000012C88EBF98>,\n",
       "        <matplotlib.axes._subplots.AxesSubplot object at 0x00000012C88FE240>],\n",
       "       [<matplotlib.axes._subplots.AxesSubplot object at 0x00000012C890D4A8>,\n",
       "        <matplotlib.axes._subplots.AxesSubplot object at 0x00000012C891B748>,\n",
       "        <matplotlib.axes._subplots.AxesSubplot object at 0x00000012C891B780>],\n",
       "       [<matplotlib.axes._subplots.AxesSubplot object at 0x00000012C8938BE0>,\n",
       "        <matplotlib.axes._subplots.AxesSubplot object at 0x00000012C8947E48>,\n",
       "        <matplotlib.axes._subplots.AxesSubplot object at 0x00000012C895A0F0>]],\n",
       "      dtype=object)"
      ]
     },
     "execution_count": 157,
     "metadata": {},
     "output_type": "execute_result"
    },
    {
     "data": {
      "image/png": "[encoded data removed]",
      "text/plain": [
       "<Figure size 648x648 with 12 Axes>"
      ]
     },
     "metadata": {
      "needs_background": "light"
     },
     "output_type": "display_data"
    }
   ],
   "source": [
    "# histogramas\n",
    "df.hist(sharex=False, sharey=False, xlabelsize=1, ylabelsize=1, figsize=(9,9))\n",
    "plt.show()"
   ]
  },
  {
   "cell_type": "code",
   "execution_count": 158,
   "metadata": {},
   "outputs": [
    {
     "data": {
      "text/plain": [
       "array([[<matplotlib.axes._subplots.AxesSubplot object at 0x00000012C8CA2C50>,\n",
       "        <matplotlib.axes._subplots.AxesSubplot object at 0x00000012C8D586A0>,\n",
       "        <matplotlib.axes._subplots.AxesSubplot object at 0x00000012C8D6C908>],\n",
       "       [<matplotlib.axes._subplots.AxesSubplot object at 0x00000012C8AE0B70>,\n",
       "        <matplotlib.axes._subplots.AxesSubplot object at 0x00000012C8B0BDD8>,\n",
       "        <matplotlib.axes._subplots.AxesSubplot object at 0x00000012C8B3B080>],\n",
       "       [<matplotlib.axes._subplots.AxesSubplot object at 0x00000012C8B632E8>,\n",
       "        <matplotlib.axes._subplots.AxesSubplot object at 0x00000012C8B8C588>,\n",
       "        <matplotlib.axes._subplots.AxesSubplot object at 0x00000012C8B8C5C0>],\n",
       "       [<matplotlib.axes._subplots.AxesSubplot object at 0x00000012C8BDDA20>,\n",
       "        <matplotlib.axes._subplots.AxesSubplot object at 0x00000012C8C05C88>,\n",
       "        <matplotlib.axes._subplots.AxesSubplot object at 0x00000012C8C30EF0>]],\n",
       "      dtype=object)"
      ]
     },
     "execution_count": 158,
     "metadata": {},
     "output_type": "execute_result"
    },
    {
     "data": {
      "image/png": "[encoded data removed]",
      "text/plain": [
       "<Figure size 720x864 with 12 Axes>"
      ]
     },
     "metadata": {
      "needs_background": "light"
     },
     "output_type": "display_data"
    }
   ],
   "source": [
    "# density plot\n",
    "df.plot(kind='density', subplots=True, layout=(4,3), sharex=False, legend=False, fontsize=1, figsize=(10,12))\n",
    "plt.show()"
   ]
  },
  {
   "cell_type": "code",
   "execution_count": 297,
   "metadata": {},
   "outputs": [
    {
     "data": {
      "image/png": "[encoded data removed]",
      "text/plain": [
       "<Figure size 936x648 with 1 Axes>"
      ]
     },
     "metadata": {
      "needs_background": "light"
     },
     "output_type": "display_data"
    }
   ],
   "source": [
    "# boxplot\n",
    "boxplot = df.boxplot(column=['Gender', 'Married', 'Dependents', 'Education', 'Self_Employed',\n",
    "       'ApplicantIncome', 'CoapplicantIncome', 'LoanAmount', 'Loan_Amount_Term', 'Credit_History',\n",
    "       'Property_Area', 'Loan_Status'], figsize=(13, 9), rot=50)"
   ]
  },
  {
   "cell_type": "markdown",
   "metadata": {},
   "source": [
    "### Feature Selection\n",
    "\n",
    "#### Univariate Selection\n",
    "Based on  https://towardsdatascience.com/feature-selection-techniques-in-machine-learning-with-python-f2"
   ]
  },
  {
   "cell_type": "code",
   "execution_count": 159,
   "metadata": {},
   "outputs": [
    {
     "name": "stdout",
     "output_type": "stream",
     "text": [
      "               Specs      Score\n",
      "6  CoapplicantIncome  11342.042\n",
      "5    ApplicantIncome     93.905\n",
      "7         LoanAmount     30.214\n",
      "9     Credit_History     26.006\n",
      "8   Loan_Amount_Term      3.779\n"
     ]
    }
   ],
   "source": [
    "from sklearn.feature_selection import SelectKBest\n",
    "from sklearn.feature_selection import chi2\n",
    "\n",
    "X = df.iloc[:,1:12]  #independent column\n",
    "y = df.iloc[:,12]    #target  column\n",
    "\n",
    "# apply SelectKBest class to extract top 5 best features\n",
    "bestfeatures = SelectKBest(score_func=chi2, k=10)\n",
    "fit = bestfeatures.fit(X,y)\n",
    "dfscores = pd.DataFrame(fit.scores_)\n",
    "dfcolumns = pd.DataFrame(X.columns)\n",
    "\n",
    "# concat two dataframes for better visualization \n",
    "featureScores = pd.concat([dfcolumns,dfscores],axis=1)\n",
    "featureScores.columns = ['Specs','Score']  #naming the dataframe columns\n",
    "print(featureScores.nlargest(5, 'Score'))  #print 5 best features"
   ]
  },
  {
   "cell_type": "markdown",
   "metadata": {},
   "source": [
    "#### Correlation Matrix with Heatmap"
   ]
  },
  {
   "cell_type": "code",
   "execution_count": 160,
   "metadata": {},
   "outputs": [
    {
     "data": {
      "text/plain": [
       "<Figure size 1440x1440 with 0 Axes>"
      ]
     },
     "execution_count": 160,
     "metadata": {},
     "output_type": "execute_result"
    },
    {
     "data": {
      "image/png": "[encoded data removed]",
      "text/plain": [
       "<Figure size 1440x1440 with 2 Axes>"
      ]
     },
     "metadata": {
      "needs_background": "light"
     },
     "output_type": "display_data"
    }
   ],
   "source": [
    "import seaborn as sns\n",
    "\n",
    "X = df.iloc[:,1:12]  #independent column\n",
    "y = df.iloc[:,12]    #target column\n",
    "\n",
    "# get correlations of each features in dataset\n",
    "corrmat = df.corr(method='pearson')\n",
    "top_corr_features = corrmat.index\n",
    "plt.figure(figsize=(20,20))\n",
    "\n",
    "# plot heat map\n",
    "g=sns.heatmap(df[top_corr_features].corr(),annot=True,cmap=\"RdYlGn\")"
   ]
  },
  {
   "cell_type": "markdown",
   "metadata": {},
   "source": [
    "## Validation Dataset"
   ]
  },
  {
   "cell_type": "code",
   "execution_count": 161,
   "metadata": {},
   "outputs": [],
   "source": [
    "df['Loan_Status'] = df.Loan_Status.replace({0: 'N', 1: 'Y'})"
   ]
  },
  {
   "cell_type": "code",
   "execution_count": 162,
   "metadata": {},
   "outputs": [],
   "source": [
    "# split-out validation dataset\n",
    "array = df.values\n",
    "X = array[:, 1:12].astype(float)\n",
    "Y = array[:, -1]\n",
    "validation_size = 0.30\n",
    "seed = 7\n",
    "X_train, X_validation, Y_train, Y_validation = train_test_split(X, Y, test_size=validation_size, random_state=seed)"
   ]
  },
  {
   "cell_type": "markdown",
   "metadata": {},
   "source": [
    "## Evaluating Algorithms: Baseline"
   ]
  },
  {
   "cell_type": "code",
   "execution_count": 163,
   "metadata": {},
   "outputs": [],
   "source": [
    "# test options and evaluation metric\n",
    "num_folds = 10\n",
    "seed = 7\n",
    "scoring = 'accuracy'"
   ]
  },
  {
   "cell_type": "code",
   "execution_count": 164,
   "metadata": {},
   "outputs": [],
   "source": [
    "# spot-check Algoriths\n",
    "models = []\n",
    "models.append(('LR', LogisticRegression()))\n",
    "models.append(('KNN', KNeighborsClassifier()))\n",
    "models.append(('CART', DecisionTreeClassifier()))\n",
    "models.append(('NB', GaussianNB()))\n",
    "models.append(('SVM', SVC()))"
   ]
  },
  {
   "cell_type": "code",
   "execution_count": 165,
   "metadata": {},
   "outputs": [
    {
     "name": "stdout",
     "output_type": "stream",
     "text": [
      "LR: 0.808915 (0.032245)\n",
      "KNN: 0.631728 (0.059356)\n",
      "CART: 0.678239 (0.029938)\n",
      "NB: 0.787929 (0.023846)\n",
      "SVM: 0.699169 (0.080060)\n"
     ]
    }
   ],
   "source": [
    "results = []\n",
    "names = []\n",
    "for name, model in models:\n",
    "    kfold = KFold(n_splits=num_folds, random_state=seed)\n",
    "    cv_results = cross_val_score(model, X_train, Y_train, cv=kfold, scoring=scoring)\n",
    "    results.append(cv_results)\n",
    "    names.append(name)\n",
    "    msg = \"%s: %f (%f)\" % (name, cv_results.mean(), cv_results.std())\n",
    "    print(msg)"
   ]
  },
  {
   "cell_type": "code",
   "execution_count": 166,
   "metadata": {},
   "outputs": [
    {
     "data": {
      "text/plain": [
       "Text(0.5, 0.98, 'Algorithm Comparison')"
      ]
     },
     "execution_count": 166,
     "metadata": {},
     "output_type": "execute_result"
    },
    {
     "data": {
      "text/plain": [
       "{'whiskers': [<matplotlib.lines.Line2D at 0x12cb595d30>,\n",
       "  <matplotlib.lines.Line2D at 0x12cb595e10>,\n",
       "  <matplotlib.lines.Line2D at 0x12cb5a5518>,\n",
       "  <matplotlib.lines.Line2D at 0x12cb5a5860>,\n",
       "  <matplotlib.lines.Line2D at 0x12cb5afc50>,\n",
       "  <matplotlib.lines.Line2D at 0x12cb5aff98>,\n",
       "  <matplotlib.lines.Line2D at 0x12cad563c8>,\n",
       "  <matplotlib.lines.Line2D at 0x12cad56710>,\n",
       "  <matplotlib.lines.Line2D at 0x12cad5db00>,\n",
       "  <matplotlib.lines.Line2D at 0x12cad5de48>],\n",
       " 'caps': [<matplotlib.lines.Line2D at 0x12cb59e400>,\n",
       "  <matplotlib.lines.Line2D at 0x12cb59e748>,\n",
       "  <matplotlib.lines.Line2D at 0x12cb5a5ba8>,\n",
       "  <matplotlib.lines.Line2D at 0x12cb5a5ef0>,\n",
       "  <matplotlib.lines.Line2D at 0x12cad4a320>,\n",
       "  <matplotlib.lines.Line2D at 0x12cad4a668>,\n",
       "  <matplotlib.lines.Line2D at 0x12cad56a58>,\n",
       "  <matplotlib.lines.Line2D at 0x12cad56da0>,\n",
       "  <matplotlib.lines.Line2D at 0x12cad5df28>,\n",
       "  <matplotlib.lines.Line2D at 0x12cad69518>],\n",
       " 'boxes': [<matplotlib.lines.Line2D at 0x12cb595978>,\n",
       "  <matplotlib.lines.Line2D at 0x12cb59eda0>,\n",
       "  <matplotlib.lines.Line2D at 0x12cb5af8d0>,\n",
       "  <matplotlib.lines.Line2D at 0x12cad4ada0>,\n",
       "  <matplotlib.lines.Line2D at 0x12cad5d780>],\n",
       " 'medians': [<matplotlib.lines.Line2D at 0x12cb59ea90>,\n",
       "  <matplotlib.lines.Line2D at 0x12cb5a5fd0>,\n",
       "  <matplotlib.lines.Line2D at 0x12cad4a9b0>,\n",
       "  <matplotlib.lines.Line2D at 0x12cad56e80>,\n",
       "  <matplotlib.lines.Line2D at 0x12cad69860>],\n",
       " 'fliers': [<matplotlib.lines.Line2D at 0x12cb59edd8>,\n",
       "  <matplotlib.lines.Line2D at 0x12cb5af5c0>,\n",
       "  <matplotlib.lines.Line2D at 0x12cad4acf8>,\n",
       "  <matplotlib.lines.Line2D at 0x12cad5d470>,\n",
       "  <matplotlib.lines.Line2D at 0x12cad69ba8>],\n",
       " 'means': []}"
      ]
     },
     "execution_count": 166,
     "metadata": {},
     "output_type": "execute_result"
    },
    {
     "data": {
      "text/plain": [
       "[Text(0, 0, 'LR'),\n",
       " Text(0, 0, 'KNN'),\n",
       " Text(0, 0, 'CART'),\n",
       " Text(0, 0, 'NB'),\n",
       " Text(0, 0, 'SVM')]"
      ]
     },
     "execution_count": 166,
     "metadata": {},
     "output_type": "execute_result"
    },
    {
     "data": {
      "image/png": "[encoded data removed]",
      "text/plain": [
       "<Figure size 648x648 with 1 Axes>"
      ]
     },
     "metadata": {
      "needs_background": "light"
     },
     "output_type": "display_data"
    }
   ],
   "source": [
    "# compare algorithms \n",
    "fig = plt.figure(figsize=(9,9))\n",
    "fig.suptitle('Algorithm Comparison')\n",
    "ax = fig.add_subplot(111)\n",
    "plt.boxplot(results)\n",
    "ax.set_xticklabels(names)\n",
    "plt.show()"
   ]
  },
  {
   "cell_type": "markdown",
   "metadata": {},
   "source": [
    "## Evaluating Algorithms: Standardize Data"
   ]
  },
  {
   "cell_type": "code",
   "execution_count": 167,
   "metadata": {},
   "outputs": [
    {
     "name": "stdout",
     "output_type": "stream",
     "text": [
      "ScaledLR: 0.811240 (0.034929)\n",
      "ScaledKNN: 0.780731 (0.034462)\n",
      "ScaledCART: 0.678239 (0.054327)\n",
      "ScaledNB: 0.794906 (0.024752)\n",
      "ScaledSVM: 0.792525 (0.038202)\n"
     ]
    }
   ],
   "source": [
    "# standardize the dataset\n",
    "pipelines = []\n",
    "pipelines.append(('ScaledLR', Pipeline([('Scaler', StandardScaler()), ('LR', LogisticRegression())])))\n",
    "pipelines.append(('ScaledKNN', Pipeline([('Scaler', StandardScaler()), ('KNN', KNeighborsClassifier())])))\n",
    "pipelines.append(('ScaledCART', Pipeline([('Scaler', StandardScaler()), ('CART', DecisionTreeClassifier())])))\n",
    "pipelines.append(('ScaledNB', Pipeline([('Scaler', StandardScaler()), ('NB', GaussianNB())])))\n",
    "pipelines.append(('ScaledSVM', Pipeline([('Scaler', StandardScaler()), ('SVM', SVC())])))\n",
    "\n",
    "results = []\n",
    "names = []\n",
    "\n",
    "for name, model in pipelines:\n",
    "    kfold = KFold(n_splits=num_folds, random_state=seed)\n",
    "    cv_results = cross_val_score(model, X_train, Y_train, cv=kfold, scoring=scoring)\n",
    "    results.append(cv_results)\n",
    "    names.append(name)\n",
    "    msg = \"%s: %f (%f)\" % (name, cv_results.mean(), cv_results.std())\n",
    "    print(msg)"
   ]
  },
  {
   "cell_type": "code",
   "execution_count": 168,
   "metadata": {},
   "outputs": [
    {
     "data": {
      "text/plain": [
       "Text(0.5, 0.98, 'Scaled Algoritm Comparison')"
      ]
     },
     "execution_count": 168,
     "metadata": {},
     "output_type": "execute_result"
    },
    {
     "data": {
      "text/plain": [
       "{'whiskers': [<matplotlib.lines.Line2D at 0x12cadd0630>,\n",
       "  <matplotlib.lines.Line2D at 0x12cadd0978>,\n",
       "  <matplotlib.lines.Line2D at 0x12caddcd68>,\n",
       "  <matplotlib.lines.Line2D at 0x12caddce48>,\n",
       "  <matplotlib.lines.Line2D at 0x12cadf04e0>,\n",
       "  <matplotlib.lines.Line2D at 0x12cadf0828>,\n",
       "  <matplotlib.lines.Line2D at 0x12cadfac18>,\n",
       "  <matplotlib.lines.Line2D at 0x12cadfaf60>,\n",
       "  <matplotlib.lines.Line2D at 0x12cae0e390>,\n",
       "  <matplotlib.lines.Line2D at 0x12cae0e6d8>],\n",
       " 'caps': [<matplotlib.lines.Line2D at 0x12cadd0cc0>,\n",
       "  <matplotlib.lines.Line2D at 0x12cadd0da0>,\n",
       "  <matplotlib.lines.Line2D at 0x12cade7438>,\n",
       "  <matplotlib.lines.Line2D at 0x12cade7780>,\n",
       "  <matplotlib.lines.Line2D at 0x12cadf0b70>,\n",
       "  <matplotlib.lines.Line2D at 0x12cadf0eb8>,\n",
       "  <matplotlib.lines.Line2D at 0x12cae032e8>,\n",
       "  <matplotlib.lines.Line2D at 0x12cae03630>,\n",
       "  <matplotlib.lines.Line2D at 0x12cae0ea20>,\n",
       "  <matplotlib.lines.Line2D at 0x12cae0ed68>],\n",
       " 'boxes': [<matplotlib.lines.Line2D at 0x12cadd0240>,\n",
       "  <matplotlib.lines.Line2D at 0x12caddc9e8>,\n",
       "  <matplotlib.lines.Line2D at 0x12cade7eb8>,\n",
       "  <matplotlib.lines.Line2D at 0x12cadfa8d0>,\n",
       "  <matplotlib.lines.Line2D at 0x12cae03fd0>],\n",
       " 'medians': [<matplotlib.lines.Line2D at 0x12caddc390>,\n",
       "  <matplotlib.lines.Line2D at 0x12cade7ac8>,\n",
       "  <matplotlib.lines.Line2D at 0x12cadf0f98>,\n",
       "  <matplotlib.lines.Line2D at 0x12cae03978>,\n",
       "  <matplotlib.lines.Line2D at 0x12cae0ee48>],\n",
       " 'fliers': [<matplotlib.lines.Line2D at 0x12caddc6d8>,\n",
       "  <matplotlib.lines.Line2D at 0x12cade7e10>,\n",
       "  <matplotlib.lines.Line2D at 0x12cadfa588>,\n",
       "  <matplotlib.lines.Line2D at 0x12cae03cc0>,\n",
       "  <matplotlib.lines.Line2D at 0x12cae18438>],\n",
       " 'means': []}"
      ]
     },
     "execution_count": 168,
     "metadata": {},
     "output_type": "execute_result"
    },
    {
     "data": {
      "text/plain": [
       "[Text(0, 0, 'ScaledLR'),\n",
       " Text(0, 0, 'ScaledKNN'),\n",
       " Text(0, 0, 'ScaledCART'),\n",
       " Text(0, 0, 'ScaledNB'),\n",
       " Text(0, 0, 'ScaledSVM')]"
      ]
     },
     "execution_count": 168,
     "metadata": {},
     "output_type": "execute_result"
    },
    {
     "data": {
      "image/png": "[encoded data removed]",
      "text/plain": [
       "<Figure size 648x648 with 1 Axes>"
      ]
     },
     "metadata": {
      "needs_background": "light"
     },
     "output_type": "display_data"
    }
   ],
   "source": [
    "# compare algorithms\n",
    "fig = plt.figure(figsize=(9,9))\n",
    "fig.suptitle(\"Scaled Algoritm Comparison\")\n",
    "ax = fig.add_subplot(111)\n",
    "plt.boxplot(results)\n",
    "ax.set_xticklabels(names)\n",
    "plt.show()"
   ]
  },
  {
   "cell_type": "markdown",
   "metadata": {},
   "source": [
    "## Algorithm Tuning\n",
    "\n",
    "### Tuning SVM"
   ]
  },
  {
   "cell_type": "code",
   "execution_count": 169,
   "metadata": {},
   "outputs": [
    {
     "name": "stdout",
     "output_type": "stream",
     "text": [
      "Best: 0.808858 using {'C': 0.1, 'kernel': 'linear'}\n",
      "0.808858 (0.043682) with: {'C': 0.1, 'kernel': 'linear'}\n",
      "0.773893 (0.048161) with: {'C': 0.1, 'kernel': 'poly'}\n",
      "0.748252 (0.059955) with: {'C': 0.1, 'kernel': 'rbf'}\n",
      "0.808858 (0.043682) with: {'C': 0.1, 'kernel': 'sigmoid'}\n",
      "0.808858 (0.043682) with: {'C': 0.3, 'kernel': 'linear'}\n",
      "0.808858 (0.028704) with: {'C': 0.3, 'kernel': 'poly'}\n",
      "0.804196 (0.045340) with: {'C': 0.3, 'kernel': 'rbf'}\n",
      "0.808858 (0.041125) with: {'C': 0.3, 'kernel': 'sigmoid'}\n",
      "0.808858 (0.043682) with: {'C': 0.5, 'kernel': 'linear'}\n",
      "0.806527 (0.027566) with: {'C': 0.5, 'kernel': 'poly'}\n",
      "0.804196 (0.045340) with: {'C': 0.5, 'kernel': 'rbf'}\n",
      "0.804196 (0.038905) with: {'C': 0.5, 'kernel': 'sigmoid'}\n",
      "0.808858 (0.043682) with: {'C': 0.7, 'kernel': 'linear'}\n",
      "0.799534 (0.033091) with: {'C': 0.7, 'kernel': 'poly'}\n",
      "0.801865 (0.040315) with: {'C': 0.7, 'kernel': 'rbf'}\n",
      "0.797203 (0.037182) with: {'C': 0.7, 'kernel': 'sigmoid'}\n",
      "0.808858 (0.043682) with: {'C': 1.0, 'kernel': 'linear'}\n",
      "0.797203 (0.040504) with: {'C': 1.0, 'kernel': 'poly'}\n",
      "0.792541 (0.038245) with: {'C': 1.0, 'kernel': 'rbf'}\n",
      "0.783217 (0.037258) with: {'C': 1.0, 'kernel': 'sigmoid'}\n",
      "0.808858 (0.043682) with: {'C': 1.3, 'kernel': 'linear'}\n",
      "0.797203 (0.040504) with: {'C': 1.3, 'kernel': 'poly'}\n",
      "0.794872 (0.035861) with: {'C': 1.3, 'kernel': 'rbf'}\n",
      "0.783217 (0.037258) with: {'C': 1.3, 'kernel': 'sigmoid'}\n",
      "0.808858 (0.043682) with: {'C': 1.5, 'kernel': 'linear'}\n",
      "0.794872 (0.037342) with: {'C': 1.5, 'kernel': 'poly'}\n",
      "0.787879 (0.038186) with: {'C': 1.5, 'kernel': 'rbf'}\n",
      "0.773893 (0.028922) with: {'C': 1.5, 'kernel': 'sigmoid'}\n",
      "0.808858 (0.043682) with: {'C': 1.7, 'kernel': 'linear'}\n",
      "0.797203 (0.036268) with: {'C': 1.7, 'kernel': 'poly'}\n",
      "0.783217 (0.038968) with: {'C': 1.7, 'kernel': 'rbf'}\n",
      "0.757576 (0.031462) with: {'C': 1.7, 'kernel': 'sigmoid'}\n",
      "0.808858 (0.043682) with: {'C': 2.0, 'kernel': 'linear'}\n",
      "0.794872 (0.030996) with: {'C': 2.0, 'kernel': 'poly'}\n",
      "0.783217 (0.038968) with: {'C': 2.0, 'kernel': 'rbf'}\n",
      "0.759907 (0.040027) with: {'C': 2.0, 'kernel': 'sigmoid'}\n"
     ]
    }
   ],
   "source": [
    "# tune scaled SVM\n",
    "scaler = StandardScaler().fit(X_train)\n",
    "rescaledX = scaler.transform(X_train)\n",
    "c_values = [0.1, 0.3, 0.5, 0.7, 1.0, 1.3, 1.5, 1.7, 2.0]\n",
    "kernel_values = ['linear', 'poly', 'rbf', 'sigmoid']\n",
    "param_grid = dict(C=c_values, kernel=kernel_values)\n",
    "model = SVC()\n",
    "kfold = KFold(n_splits=num_folds, random_state=seed)\n",
    "grid = GridSearchCV(estimator=model, param_grid=param_grid, scoring=scoring, cv=kfold)\n",
    "grid_result = grid.fit(rescaledX, Y_train)\n",
    "print(\"Best: %f using %s\" % (grid_result.best_score_, grid_result.best_params_))\n",
    "means = grid_result.cv_results_['mean_test_score']\n",
    "stds = grid_result.cv_results_['std_test_score']\n",
    "params = grid_result.cv_results_['params']\n",
    "for mean, stdev, param in zip(means, stds, params):\n",
    "    print(\"%f (%f) with: %r\" % (mean, stdev, param))"
   ]
  },
  {
   "cell_type": "markdown",
   "metadata": {},
   "source": [
    "### Tuning Logistic Regression"
   ]
  },
  {
   "cell_type": "code",
   "execution_count": 174,
   "metadata": {},
   "outputs": [
    {
     "name": "stdout",
     "output_type": "stream",
     "text": [
      "Best: 0.811189 using {'C': 1}\n",
      "0.305361 (0.074453) with: {'C': 0.001}\n",
      "0.305361 (0.074453) with: {'C': 0.01}\n",
      "0.808858 (0.043682) with: {'C': 0.1}\n",
      "0.811189 (0.034953) with: {'C': 1}\n",
      "0.811189 (0.034953) with: {'C': 10}\n",
      "0.811189 (0.034953) with: {'C': 100}\n",
      "0.811189 (0.034953) with: {'C': 1000}\n"
     ]
    }
   ],
   "source": [
    "# tune scaled Logistic Regression\n",
    "scaler = StandardScaler().fit(X_train)\n",
    "rescaledX = scaler.transform(X_train)\n",
    "c_values = [0.001, 0.01, 0.1, 1, 10, 100, 1000]\n",
    "param_grid = dict(C=c_values, )\n",
    "model = LogisticRegression(penalty='l1')\n",
    "kfold = KFold(n_splits=num_folds, random_state=seed)\n",
    "grid = GridSearchCV(estimator=model, param_grid=param_grid, scoring=scoring, cv=kfold)\n",
    "grid_result = grid.fit(rescaledX, Y_train)\n",
    "print(\"Best: %f using %s\" % (grid_result.best_score_, grid_result.best_params_))\n",
    "means = grid_result.cv_results_['mean_test_score']\n",
    "stds = grid_result.cv_results_['std_test_score']\n",
    "params = grid_result.cv_results_['params']\n",
    "for mean, stdev, param in zip(means, stds, params):\n",
    "    print(\"%f (%f) with: %r\" % (mean, stdev, param))"
   ]
  },
  {
   "cell_type": "markdown",
   "metadata": {},
   "source": [
    "## Ensemble Methods"
   ]
  },
  {
   "cell_type": "code",
   "execution_count": 171,
   "metadata": {},
   "outputs": [
    {
     "name": "stdout",
     "output_type": "stream",
     "text": [
      "AB: 0.773920 (0.045239)\n",
      "GBM: 0.771539 (0.042721)\n",
      "RF: 0.764507 (0.048467)\n",
      "ET: 0.717885 (0.034134)\n"
     ]
    }
   ],
   "source": [
    "# ensembles\n",
    "ensembles = []\n",
    "ensembles.append(('AB', AdaBoostClassifier()))\n",
    "ensembles.append(('GBM', GradientBoostingClassifier()))\n",
    "ensembles.append(('RF', RandomForestClassifier()))\n",
    "ensembles.append(('ET', ExtraTreesClassifier()))\n",
    "results = []\n",
    "names = []\n",
    "for name, model in ensembles:\n",
    "    kfold = KFold(n_splits=num_folds, random_state=seed)\n",
    "    cv_results = cross_val_score(model, X_train, Y_train, cv=kfold, scoring=scoring)\n",
    "    results.append(cv_results)\n",
    "    names.append(name)\n",
    "    msg = \"%s: %f (%f)\" % (name, cv_results.mean(), cv_results.std())\n",
    "    print(msg)"
   ]
  },
  {
   "cell_type": "code",
   "execution_count": 172,
   "metadata": {},
   "outputs": [
    {
     "data": {
      "text/plain": [
       "Text(0.5, 0.98, 'Ensemble Algorith Comparison')"
      ]
     },
     "execution_count": 172,
     "metadata": {},
     "output_type": "execute_result"
    },
    {
     "data": {
      "text/plain": [
       "{'whiskers': [<matplotlib.lines.Line2D at 0x12c66cada0>,\n",
       "  <matplotlib.lines.Line2D at 0x12c66bf550>,\n",
       "  <matplotlib.lines.Line2D at 0x12c84877f0>,\n",
       "  <matplotlib.lines.Line2D at 0x12c8485b38>,\n",
       "  <matplotlib.lines.Line2D at 0x12c853e4a8>,\n",
       "  <matplotlib.lines.Line2D at 0x12c853d9e8>,\n",
       "  <matplotlib.lines.Line2D at 0x12c853afd0>,\n",
       "  <matplotlib.lines.Line2D at 0x12c853a7f0>],\n",
       " 'caps': [<matplotlib.lines.Line2D at 0x12c37b01d0>,\n",
       "  <matplotlib.lines.Line2D at 0x12c515ee10>,\n",
       "  <matplotlib.lines.Line2D at 0x12c8485c18>,\n",
       "  <matplotlib.lines.Line2D at 0x12c8485358>,\n",
       "  <matplotlib.lines.Line2D at 0x12c853def0>,\n",
       "  <matplotlib.lines.Line2D at 0x12c853df28>,\n",
       "  <matplotlib.lines.Line2D at 0x12c853a5f8>,\n",
       "  <matplotlib.lines.Line2D at 0x12c8528710>],\n",
       " 'boxes': [<matplotlib.lines.Line2D at 0x12c66caef0>,\n",
       "  <matplotlib.lines.Line2D at 0x12c8487588>,\n",
       "  <matplotlib.lines.Line2D at 0x12c853e198>,\n",
       "  <matplotlib.lines.Line2D at 0x12c853acf8>],\n",
       " 'medians': [<matplotlib.lines.Line2D at 0x12c4706198>,\n",
       "  <matplotlib.lines.Line2D at 0x12c853e5f8>,\n",
       "  <matplotlib.lines.Line2D at 0x12c853d400>,\n",
       "  <matplotlib.lines.Line2D at 0x12c85284a8>],\n",
       " 'fliers': [<matplotlib.lines.Line2D at 0x12c863ab00>,\n",
       "  <matplotlib.lines.Line2D at 0x12c853e240>,\n",
       "  <matplotlib.lines.Line2D at 0x12c853d208>,\n",
       "  <matplotlib.lines.Line2D at 0x12c8528898>],\n",
       " 'means': []}"
      ]
     },
     "execution_count": 172,
     "metadata": {},
     "output_type": "execute_result"
    },
    {
     "data": {
      "text/plain": [
       "[Text(0, 0, 'AB'), Text(0, 0, 'GBM'), Text(0, 0, 'RF'), Text(0, 0, 'ET')]"
      ]
     },
     "execution_count": 172,
     "metadata": {},
     "output_type": "execute_result"
    },
    {
     "data": {
      "image/png": "[encoded data removed]",
      "text/plain": [
       "<Figure size 648x648 with 1 Axes>"
      ]
     },
     "metadata": {
      "needs_background": "light"
     },
     "output_type": "display_data"
    }
   ],
   "source": [
    "fig = plt.figure(figsize=(9,9))\n",
    "fig.suptitle('Ensemble Algorith Comparison')\n",
    "ax = fig.add_subplot(111)\n",
    "plt.boxplot(results)\n",
    "ax.set_xticklabels(names)\n",
    "plt.show()"
   ]
  },
  {
   "cell_type": "markdown",
   "metadata": {},
   "source": [
    "## Finalizing  Model"
   ]
  },
  {
   "cell_type": "code",
   "execution_count": 180,
   "metadata": {},
   "outputs": [
    {
     "data": {
      "text/plain": [
       "LogisticRegression(C=1, class_weight=None, dual=False, fit_intercept=True,\n",
       "          intercept_scaling=1, max_iter=100, multi_class='warn',\n",
       "          n_jobs=None, penalty='l1', random_state=None, solver='warn',\n",
       "          tol=0.0001, verbose=0, warm_start=False)"
      ]
     },
     "execution_count": 180,
     "metadata": {},
     "output_type": "execute_result"
    },
    {
     "name": "stdout",
     "output_type": "stream",
     "text": [
      "0.8108108108108109\n",
      "[[ 28  33]\n",
      " [  2 122]]\n",
      "              precision    recall  f1-score   support\n",
      "\n",
      "           N       0.93      0.46      0.62        61\n",
      "           Y       0.79      0.98      0.87       124\n",
      "\n",
      "   micro avg       0.81      0.81      0.81       185\n",
      "   macro avg       0.86      0.72      0.74       185\n",
      "weighted avg       0.84      0.81      0.79       185\n",
      "\n"
     ]
    }
   ],
   "source": [
    "# prepare the model\n",
    "scaler = StandardScaler().fit(X_train)\n",
    "rescaledX = scaler.transform(X_train)\n",
    "#model = SVC(C=0.1, kernel='linear')\n",
    "model = LogisticRegression(C=1, penalty='l1')\n",
    "model.fit(rescaledX, Y_train)\n",
    "\n",
    "# estimate accuarcy on validation dataset\n",
    "rescaledValidationX = scaler.transform(X_validation)\n",
    "predictions = model.predict(rescaledValidationX)\n",
    "print(accuracy_score(Y_validation, predictions))\n",
    "print(confusion_matrix(Y_validation, predictions))\n",
    "print(classification_report(Y_validation, predictions))"
   ]
  },
  {
   "cell_type": "markdown",
   "metadata": {},
   "source": [
    "## Predicting on test dataset"
   ]
  },
  {
   "cell_type": "code",
   "execution_count": 261,
   "metadata": {},
   "outputs": [
    {
     "data": {
      "text/html": [
       "<div>\n",
       "<style scoped>\n",
       "    .dataframe tbody tr th:only-of-type {\n",
       "        vertical-align: middle;\n",
       "    }\n",
       "\n",
       "    .dataframe tbody tr th {\n",
       "        vertical-align: top;\n",
       "    }\n",
       "\n",
       "    .dataframe thead th {\n",
       "        text-align: right;\n",
       "    }\n",
       "</style>\n",
       "<table border=\"1\" class=\"dataframe\">\n",
       "  <thead>\n",
       "    <tr style=\"text-align: right;\">\n",
       "      <th></th>\n",
       "      <th>Loan_ID</th>\n",
       "      <th>Gender</th>\n",
       "      <th>Married</th>\n",
       "      <th>Dependents</th>\n",
       "      <th>Education</th>\n",
       "      <th>Self_Employed</th>\n",
       "      <th>ApplicantIncome</th>\n",
       "      <th>CoapplicantIncome</th>\n",
       "      <th>LoanAmount</th>\n",
       "      <th>Loan_Amount_Term</th>\n",
       "      <th>Credit_History</th>\n",
       "      <th>Property_Area</th>\n",
       "    </tr>\n",
       "  </thead>\n",
       "  <tbody>\n",
       "    <tr>\n",
       "      <th>0</th>\n",
       "      <td>LP001015</td>\n",
       "      <td>Male</td>\n",
       "      <td>Yes</td>\n",
       "      <td>0</td>\n",
       "      <td>Graduate</td>\n",
       "      <td>No</td>\n",
       "      <td>5720</td>\n",
       "      <td>0</td>\n",
       "      <td>110.0</td>\n",
       "      <td>360.0</td>\n",
       "      <td>1.0</td>\n",
       "      <td>Urban</td>\n",
       "    </tr>\n",
       "    <tr>\n",
       "      <th>1</th>\n",
       "      <td>LP001022</td>\n",
       "      <td>Male</td>\n",
       "      <td>Yes</td>\n",
       "      <td>1</td>\n",
       "      <td>Graduate</td>\n",
       "      <td>No</td>\n",
       "      <td>3076</td>\n",
       "      <td>1500</td>\n",
       "      <td>126.0</td>\n",
       "      <td>360.0</td>\n",
       "      <td>1.0</td>\n",
       "      <td>Urban</td>\n",
       "    </tr>\n",
       "    <tr>\n",
       "      <th>2</th>\n",
       "      <td>LP001031</td>\n",
       "      <td>Male</td>\n",
       "      <td>Yes</td>\n",
       "      <td>2</td>\n",
       "      <td>Graduate</td>\n",
       "      <td>No</td>\n",
       "      <td>5000</td>\n",
       "      <td>1800</td>\n",
       "      <td>208.0</td>\n",
       "      <td>360.0</td>\n",
       "      <td>1.0</td>\n",
       "      <td>Urban</td>\n",
       "    </tr>\n",
       "    <tr>\n",
       "      <th>3</th>\n",
       "      <td>LP001035</td>\n",
       "      <td>Male</td>\n",
       "      <td>Yes</td>\n",
       "      <td>2</td>\n",
       "      <td>Graduate</td>\n",
       "      <td>No</td>\n",
       "      <td>2340</td>\n",
       "      <td>2546</td>\n",
       "      <td>100.0</td>\n",
       "      <td>360.0</td>\n",
       "      <td>NaN</td>\n",
       "      <td>Urban</td>\n",
       "    </tr>\n",
       "    <tr>\n",
       "      <th>4</th>\n",
       "      <td>LP001051</td>\n",
       "      <td>Male</td>\n",
       "      <td>No</td>\n",
       "      <td>0</td>\n",
       "      <td>Not Graduate</td>\n",
       "      <td>No</td>\n",
       "      <td>3276</td>\n",
       "      <td>0</td>\n",
       "      <td>78.0</td>\n",
       "      <td>360.0</td>\n",
       "      <td>1.0</td>\n",
       "      <td>Urban</td>\n",
       "    </tr>\n",
       "  </tbody>\n",
       "</table>\n",
       "</div>"
      ],
      "text/plain": [
       "    Loan_ID Gender Married Dependents     Education Self_Employed  ApplicantIncome  \\\n",
       "0  LP001015   Male     Yes          0      Graduate            No             5720   \n",
       "1  LP001022   Male     Yes          1      Graduate            No             3076   \n",
       "2  LP001031   Male     Yes          2      Graduate            No             5000   \n",
       "3  LP001035   Male     Yes          2      Graduate            No             2340   \n",
       "4  LP001051   Male      No          0  Not Graduate            No             3276   \n",
       "\n",
       "   CoapplicantIncome  LoanAmount  Loan_Amount_Term  Credit_History Property_Area  \n",
       "0                  0       110.0             360.0             1.0         Urban  \n",
       "1               1500       126.0             360.0             1.0         Urban  \n",
       "2               1800       208.0             360.0             1.0         Urban  \n",
       "3               2546       100.0             360.0             NaN         Urban  \n",
       "4                  0        78.0             360.0             1.0         Urban  "
      ]
     },
     "execution_count": 261,
     "metadata": {},
     "output_type": "execute_result"
    },
    {
     "data": {
      "text/plain": [
       "(367, 12)"
      ]
     },
     "execution_count": 261,
     "metadata": {},
     "output_type": "execute_result"
    }
   ],
   "source": [
    "# load test dataset\n",
    "df_test = pd.read_csv('test_lAUu6dG.csv')\n",
    "df_test.head()\n",
    "df_test.shape"
   ]
  },
  {
   "cell_type": "code",
   "execution_count": 262,
   "metadata": {},
   "outputs": [
    {
     "data": {
      "text/plain": [
       "Loan_ID               0\n",
       "Gender               11\n",
       "Married               0\n",
       "Dependents           10\n",
       "Education             0\n",
       "Self_Employed        23\n",
       "ApplicantIncome       0\n",
       "CoapplicantIncome     0\n",
       "LoanAmount            5\n",
       "Loan_Amount_Term      6\n",
       "Credit_History       29\n",
       "Property_Area         0\n",
       "dtype: int64"
      ]
     },
     "execution_count": 262,
     "metadata": {},
     "output_type": "execute_result"
    }
   ],
   "source": [
    "# sum of missing values \n",
    "df_test.isnull().sum()"
   ]
  },
  {
   "cell_type": "code",
   "execution_count": 263,
   "metadata": {},
   "outputs": [],
   "source": [
    "# imputing both categorical and numerical values\n",
    "imp = SimpleImputer(missing_values=np.nan, strategy='most_frequent')\n",
    "df_test = pd.DataFrame(imp.fit_transform(df_test),columns=df_test.columns,index=df_test.index)"
   ]
  },
  {
   "cell_type": "code",
   "execution_count": 264,
   "metadata": {},
   "outputs": [
    {
     "data": {
      "text/plain": [
       "Loan_ID              0\n",
       "Gender               0\n",
       "Married              0\n",
       "Dependents           0\n",
       "Education            0\n",
       "Self_Employed        0\n",
       "ApplicantIncome      0\n",
       "CoapplicantIncome    0\n",
       "LoanAmount           0\n",
       "Loan_Amount_Term     0\n",
       "Credit_History       0\n",
       "Property_Area        0\n",
       "dtype: int64"
      ]
     },
     "execution_count": 264,
     "metadata": {},
     "output_type": "execute_result"
    }
   ],
   "source": [
    "# sum of missing values \n",
    "df_test.isnull().sum()"
   ]
  },
  {
   "cell_type": "code",
   "execution_count": 265,
   "metadata": {},
   "outputs": [],
   "source": [
    "# change data types\n",
    "df_test = df_test.astype({'ApplicantIncome': np.int64, 'CoapplicantIncome':float,\n",
    "                'LoanAmount':float,'Loan_Amount_Term':float, 'Credit_History':float})"
   ]
  },
  {
   "cell_type": "code",
   "execution_count": 266,
   "metadata": {},
   "outputs": [
    {
     "data": {
      "text/plain": [
       "array(['Male', 'Female'], dtype=object)"
      ]
     },
     "execution_count": 266,
     "metadata": {},
     "output_type": "execute_result"
    },
    {
     "data": {
      "text/plain": [
       "array(['Yes', 'No'], dtype=object)"
      ]
     },
     "execution_count": 266,
     "metadata": {},
     "output_type": "execute_result"
    },
    {
     "data": {
      "text/plain": [
       "array(['0', '1', '2', '3+'], dtype=object)"
      ]
     },
     "execution_count": 266,
     "metadata": {},
     "output_type": "execute_result"
    },
    {
     "data": {
      "text/plain": [
       "array(['Graduate', 'Not Graduate'], dtype=object)"
      ]
     },
     "execution_count": 266,
     "metadata": {},
     "output_type": "execute_result"
    },
    {
     "data": {
      "text/plain": [
       "array(['No', 'Yes'], dtype=object)"
      ]
     },
     "execution_count": 266,
     "metadata": {},
     "output_type": "execute_result"
    },
    {
     "data": {
      "text/plain": [
       "array(['Urban', 'Semiurban', 'Rural'], dtype=object)"
      ]
     },
     "execution_count": 266,
     "metadata": {},
     "output_type": "execute_result"
    }
   ],
   "source": [
    "# get unique values\n",
    "df_test.Gender.unique()\n",
    "df_test.Married.unique()\n",
    "df_test.Dependents.unique()\n",
    "df_test.Education.unique()\n",
    "df_test.Self_Employed.unique()\n",
    "df_test.Property_Area.unique()"
   ]
  },
  {
   "cell_type": "code",
   "execution_count": 267,
   "metadata": {},
   "outputs": [
    {
     "data": {
      "text/plain": [
       "\"Labels for Gender are {0: 'Female', 1: 'Male'}\""
      ]
     },
     "execution_count": 267,
     "metadata": {},
     "output_type": "execute_result"
    },
    {
     "data": {
      "text/plain": [
       "\"Labels for Married are {0: 'No', 1: 'Yes'}\""
      ]
     },
     "execution_count": 267,
     "metadata": {},
     "output_type": "execute_result"
    },
    {
     "data": {
      "text/plain": [
       "\"Labels for Dependents are {0: '0', 1: '1', 2: '2', 3: '3+'}\""
      ]
     },
     "execution_count": 267,
     "metadata": {},
     "output_type": "execute_result"
    },
    {
     "data": {
      "text/plain": [
       "\"Labels for Education are {0: 'Graduate', 1: 'Not Graduate'}\""
      ]
     },
     "execution_count": 267,
     "metadata": {},
     "output_type": "execute_result"
    },
    {
     "data": {
      "text/plain": [
       "\"Labels for Self_Employed are {0: 'No', 1: 'Yes'}\""
      ]
     },
     "execution_count": 267,
     "metadata": {},
     "output_type": "execute_result"
    },
    {
     "data": {
      "text/plain": [
       "\"Labels for Property_Area are {0: 'Rural', 1: 'Semiurban', 2: 'Urban'}\""
      ]
     },
     "execution_count": 267,
     "metadata": {},
     "output_type": "execute_result"
    }
   ],
   "source": [
    "# apply encoding_scheme to Gender \n",
    "encoding_schema(df_test, 'Gender', 'GenderLabel')\n",
    "\n",
    "# apply encoding_scheme to Married \n",
    "encoding_schema(df_test, 'Married', 'MarriedLabel')\n",
    "\n",
    "# apply encoding_scheme to Dependents\n",
    "encoding_schema(df_test, 'Dependents', 'DependentsLabel')\n",
    "\n",
    "# apply encoding_scheme to Education\n",
    "encoding_schema(df_test, 'Education', 'EducationLabel')\n",
    "\n",
    "# apply encoding_scheme to Self_Employed\n",
    "encoding_schema(df_test, 'Self_Employed', 'Self_EmployedLabel')\n",
    "\n",
    "# apply encoding_scheme to Property_Area\n",
    "encoding_schema(df_test, 'Property_Area', 'Property_AreaLabel')"
   ]
  },
  {
   "cell_type": "code",
   "execution_count": 268,
   "metadata": {},
   "outputs": [
    {
     "data": {
      "text/plain": [
       "Loan_ID                object\n",
       "GenderLabel             int64\n",
       "MarriedLabel            int64\n",
       "DependentsLabel         int64\n",
       "EducationLabel          int64\n",
       "Self_EmployedLabel      int64\n",
       "ApplicantIncome         int64\n",
       "CoapplicantIncome     float64\n",
       "LoanAmount            float64\n",
       "Loan_Amount_Term      float64\n",
       "Credit_History        float64\n",
       "Property_AreaLabel      int64\n",
       "dtype: object"
      ]
     },
     "execution_count": 268,
     "metadata": {},
     "output_type": "execute_result"
    }
   ],
   "source": [
    "# get rid of unuseful column\n",
    "columns_to_keep  = ['Loan_ID', 'GenderLabel', 'MarriedLabel', 'DependentsLabel', 'EducationLabel',\n",
    "       'Self_EmployedLabel', 'ApplicantIncome', 'CoapplicantIncome', 'LoanAmount',\n",
    "       'Loan_Amount_Term', 'Credit_History', 'Property_AreaLabel']\n",
    "\n",
    "df_test = df_test[columns_to_keep]\n",
    "df_test.dtypes"
   ]
  },
  {
   "cell_type": "code",
   "execution_count": 269,
   "metadata": {},
   "outputs": [],
   "source": [
    "# rename back the column names\n",
    "old_colnames  = ['GenderLabel', 'MarriedLabel', 'DependentsLabel', 'EducationLabel',\n",
    "       'Self_EmployedLabel', 'Property_AreaLabel']\n",
    "\n",
    "new_colnames  = ['Gender', 'Married', 'Dependents', 'Education',\n",
    "       'Self_Employed', 'Property_Area']\n",
    "\n",
    "col_rename_dict = {i:j for i,j in zip(old_colnames,new_colnames)}\n",
    "df_test = df_test.rename(columns=col_rename_dict)"
   ]
  },
  {
   "cell_type": "code",
   "execution_count": 270,
   "metadata": {},
   "outputs": [
    {
     "data": {
      "text/html": [
       "<div>\n",
       "<style scoped>\n",
       "    .dataframe tbody tr th:only-of-type {\n",
       "        vertical-align: middle;\n",
       "    }\n",
       "\n",
       "    .dataframe tbody tr th {\n",
       "        vertical-align: top;\n",
       "    }\n",
       "\n",
       "    .dataframe thead th {\n",
       "        text-align: right;\n",
       "    }\n",
       "</style>\n",
       "<table border=\"1\" class=\"dataframe\">\n",
       "  <thead>\n",
       "    <tr style=\"text-align: right;\">\n",
       "      <th></th>\n",
       "      <th>Loan_ID</th>\n",
       "      <th>Gender</th>\n",
       "      <th>Married</th>\n",
       "      <th>Dependents</th>\n",
       "      <th>Education</th>\n",
       "      <th>Self_Employed</th>\n",
       "      <th>ApplicantIncome</th>\n",
       "      <th>CoapplicantIncome</th>\n",
       "      <th>LoanAmount</th>\n",
       "      <th>Loan_Amount_Term</th>\n",
       "      <th>Credit_History</th>\n",
       "      <th>Property_Area</th>\n",
       "    </tr>\n",
       "  </thead>\n",
       "  <tbody>\n",
       "    <tr>\n",
       "      <th>0</th>\n",
       "      <td>LP001015</td>\n",
       "      <td>1</td>\n",
       "      <td>1</td>\n",
       "      <td>0</td>\n",
       "      <td>0</td>\n",
       "      <td>0</td>\n",
       "      <td>5720</td>\n",
       "      <td>0.0</td>\n",
       "      <td>110.0</td>\n",
       "      <td>360.0</td>\n",
       "      <td>1.0</td>\n",
       "      <td>2</td>\n",
       "    </tr>\n",
       "    <tr>\n",
       "      <th>1</th>\n",
       "      <td>LP001022</td>\n",
       "      <td>1</td>\n",
       "      <td>1</td>\n",
       "      <td>1</td>\n",
       "      <td>0</td>\n",
       "      <td>0</td>\n",
       "      <td>3076</td>\n",
       "      <td>1500.0</td>\n",
       "      <td>126.0</td>\n",
       "      <td>360.0</td>\n",
       "      <td>1.0</td>\n",
       "      <td>2</td>\n",
       "    </tr>\n",
       "    <tr>\n",
       "      <th>2</th>\n",
       "      <td>LP001031</td>\n",
       "      <td>1</td>\n",
       "      <td>1</td>\n",
       "      <td>2</td>\n",
       "      <td>0</td>\n",
       "      <td>0</td>\n",
       "      <td>5000</td>\n",
       "      <td>1800.0</td>\n",
       "      <td>208.0</td>\n",
       "      <td>360.0</td>\n",
       "      <td>1.0</td>\n",
       "      <td>2</td>\n",
       "    </tr>\n",
       "    <tr>\n",
       "      <th>3</th>\n",
       "      <td>LP001035</td>\n",
       "      <td>1</td>\n",
       "      <td>1</td>\n",
       "      <td>2</td>\n",
       "      <td>0</td>\n",
       "      <td>0</td>\n",
       "      <td>2340</td>\n",
       "      <td>2546.0</td>\n",
       "      <td>100.0</td>\n",
       "      <td>360.0</td>\n",
       "      <td>1.0</td>\n",
       "      <td>2</td>\n",
       "    </tr>\n",
       "    <tr>\n",
       "      <th>4</th>\n",
       "      <td>LP001051</td>\n",
       "      <td>1</td>\n",
       "      <td>0</td>\n",
       "      <td>0</td>\n",
       "      <td>1</td>\n",
       "      <td>0</td>\n",
       "      <td>3276</td>\n",
       "      <td>0.0</td>\n",
       "      <td>78.0</td>\n",
       "      <td>360.0</td>\n",
       "      <td>1.0</td>\n",
       "      <td>2</td>\n",
       "    </tr>\n",
       "  </tbody>\n",
       "</table>\n",
       "</div>"
      ],
      "text/plain": [
       "    Loan_ID  Gender  Married  Dependents  Education  Self_Employed  ApplicantIncome  \\\n",
       "0  LP001015       1        1           0          0              0             5720   \n",
       "1  LP001022       1        1           1          0              0             3076   \n",
       "2  LP001031       1        1           2          0              0             5000   \n",
       "3  LP001035       1        1           2          0              0             2340   \n",
       "4  LP001051       1        0           0          1              0             3276   \n",
       "\n",
       "   CoapplicantIncome  LoanAmount  Loan_Amount_Term  Credit_History  Property_Area  \n",
       "0                0.0       110.0             360.0             1.0              2  \n",
       "1             1500.0       126.0             360.0             1.0              2  \n",
       "2             1800.0       208.0             360.0             1.0              2  \n",
       "3             2546.0       100.0             360.0             1.0              2  \n",
       "4                0.0        78.0             360.0             1.0              2  "
      ]
     },
     "execution_count": 270,
     "metadata": {},
     "output_type": "execute_result"
    },
    {
     "data": {
      "text/plain": [
       "(367, 12)"
      ]
     },
     "execution_count": 270,
     "metadata": {},
     "output_type": "execute_result"
    }
   ],
   "source": [
    "df_test.head()\n",
    "df_test.shape"
   ]
  },
  {
   "cell_type": "code",
   "execution_count": 273,
   "metadata": {},
   "outputs": [],
   "source": [
    "feature_names = ['Gender', 'Married', 'Dependents', 'Education', 'Self_Employed',\n",
    "       'ApplicantIncome', 'CoapplicantIncome', 'LoanAmount', 'Loan_Amount_Term', 'Credit_History',\n",
    "       'Property_Area']\n",
    "\n",
    "# set index\n",
    "df_test.index = df_test['Loan_ID']\n",
    "\n",
    "X_validation = df_test[feature_names]\n",
    "\n",
    "rescaledValidationX = scaler.transform(X_validation)\n",
    "    \n",
    "# calculate the predictions for each class\n",
    "X_predict = model.predict(rescaledValidationX)\n",
    "\n",
    "# create the solution dataframe\n",
    "result = pd.DataFrame(data=X_predict, index=df_test['Loan_ID'], columns=['Loan_Status'])"
   ]
  },
  {
   "cell_type": "code",
   "execution_count": 274,
   "metadata": {},
   "outputs": [],
   "source": [
    "# save the solution as an csv file\n",
    "result.to_csv('solution.csv', header=True)"
   ]
  }
 ],
 "metadata": {
  "kernelspec": {
   "display_name": "Python 3",
   "language": "python",
   "name": "python3"
  },
  "language_info": {
   "codemirror_mode": {
    "name": "ipython",
    "version": 3
   },
   "file_extension": ".py",
   "mimetype": "text/x-python",
   "name": "python",
   "nbconvert_exporter": "python",
   "pygments_lexer": "ipython3",
   "version": "3.7.3"
  }
 },
 "nbformat": 4,
 "nbformat_minor": 2
}
